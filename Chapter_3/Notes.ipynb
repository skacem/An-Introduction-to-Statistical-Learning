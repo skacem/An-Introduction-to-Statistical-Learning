{
 "cells": [
  {
   "cell_type": "markdown",
   "id": "1d0d2779-c4b0-42f8-9627-b7f07d2db2be",
   "metadata": {},
   "source": [
    "# Linear Regression\n",
    "\n",
    "* A very simple approach for supervised learning.\n",
    "* Specially useful for predicting quantitative response.\n",
    "* Many fancy statistical learning approaches can be seen as generalizations or extensions of linear regression.\n",
    "\n",
    "## Simple Linear Regression\n",
    "\n",
    "* Predicting a quantitative response $Y$ on the basis of a single predictor variable $X$\n",
    "$$Y = \\beta_0 + \\beta_1X + \\epsilon$$\n",
    "\n",
    "* $\\beta_0$: intercept\n",
    "* $\\beta_1$: slope\n",
    "\n",
    "* Given some estimares $\\hat \\beta_0$ and $\\hat \\beta_1 x,$\n",
    "$$\\hat y = \\hat \\beta_0 + \\hat \\beta_1 x$$\n",
    "* where $\\hat y$ indicates a prediction of $Y$ on the basis of $X = x$"
   ]
  },
  {
   "cell_type": "markdown",
   "id": "88389806-7cdc-40ba-85fc-93de02155b1c",
   "metadata": {},
   "source": [
    "### Estimation of the parameters by least squares\n",
    "\n",
    "* Let $\\hat y = \\hat \\beta_0 + \\hat \\beta_1 x$ be the prediction for $Y$ based on the ith value of $X$. Then $e_i = y_i - \\hat y_i$ represents the ith residual\n",
    "* We define the *residual sum of squares* (RSS) as\n",
    "\n",
    "$$\\text{RSS} = e_1^2 + e_2^2 + \\dots + e_n^2$$\n",
    "\n",
    "* or equivalently as\n",
    "$$\\text{RSS} = (y_1 - \\hat\\beta_0 - \\hat \\beta_1x_1)^2 + (y_12- \\hat\\beta_0 - \\hat \\beta_1x_2)^2 + \\dots + (y_n - \\hat\\beta_0 - \\hat \\beta_1x_n)^2$$\n",
    "\n",
    "* The least squares approach chooses $\\hat \\beta_0$ and $\\hat \\beta_1$ to minimize the RSS\n",
    "\n",
    "* The minimizing values can be shown to be:\n",
    "$$\\hat \\beta_1 = \\frac{\\sum_{i=1}^n(x_i - \\bar{x})(y_i - \\bar{y})}\n",
    "{\\sum_{i=1}^n(x_i - \\bar{x})^2}$$\n",
    "$$\\hat \\beta = \\bar{y} - \\hat \\beta \\bar{x,}$$\n",
    "\n",
    "* where $\\bar{y} \\equiv \\frac{1}{n}\\sum_{i=1}^n y_i$ and $\\bar{x} \\equiv \\frac{1}{n}\\sum_{i=1}^n x_i$ are the sample means"
   ]
  },
  {
   "cell_type": "markdown",
   "id": "cf69c227-d560-44aa-a260-21c2653424ab",
   "metadata": {},
   "source": [
    "### Assessing the Accuracy of the Coefficient Estimates\n",
    "\n",
    "* The standard error of an estimator reflects how it varies under repeated sampling.\n",
    "* We have:\n",
    "\n",
    "$$\\text{SE}(\\hat \\beta_1)^2 = \\frac{\\sigma^2}{\\sum_{i=1}^n(x_i - \\bar{x})^2}, ~~\\text{SE}(\\hat \\beta_0)^2 = \\sigma^2\\bigg[\\frac{1}{n} + \\frac{\\bar{x}^2}{\\sum_{i=1}^n(x_i - \\bar{x})^2}\\bigg]$$\n",
    "\n",
    " where $\\sigma^2 = \\text{Var}(\\epsilon)$\n",
    " \n",
    "* These standard errors can be used to compute *confidence intervals*. \n",
    "* A 95\\% confidence interval is defined as a range of values such that with 95\\% probability, the range will contain the true unknown value of the parameter.\n",
    "* It has the form\n",
    "$$\\hat\\beta_1 \\pm 2. \\text{SE}(\\hat\\beta_1)$$\n",
    "\n",
    "* That is, there is approximately a 95\\% chance that the interval\n",
    "$$\\big[\\hat\\beta_1 - 2 . \\text{SE}(\\hat \\beta_1), ~~\\hat\\beta_1 . \\text{SE}(\\hat \\beta_1)\\big]$$\n",
    "* will contain the true value of $\\beta_1$ (under a scenario where we got repeated samples)"
   ]
  },
  {
   "cell_type": "markdown",
   "id": "34f16698-1fb1-4de9-aeb5-e0d773bceb88",
   "metadata": {},
   "source": [
    "### Hypothesis testing\n",
    "\n",
    "* Standard errors can also be used to perform *hypothesis tests* on the coefficients. \n",
    "* The most common hypothesis test involves testing the *null hypothesis* of\n",
    "    * $H_0$: There is no relationship between $X$ and $Y$ versus the *alternative hypothesis*\n",
    "    * $H_A$: There is some relationship between $X$ and $Y$\n",
    "    \n",
    "* Mathematically, this corresponds to testing:\n",
    "$$H_0: \\beta_1 = 0$$ versus\n",
    "$$H_A: \\beta_1 \\neq 0,$$\n",
    "* Since if $\\beta_1 = 0$ then the model reduces to $Y = \\beta_0 + \\epsilon$, and $X$ is not associated with $Y$\n",
    "\n",
    "* To test the null hypothesis, we compute a *t-statistic*, given by\n",
    "$$t = \\frac{\\hat \\beta_1 - 0}{\\text{SE}(\\hat\\beta_1)},$$\n",
    "* This will have a t-distribution with $n - 2$ degrees of freedom, assuming $\\beta_1 = 0$\n",
    "* *p-value*: probability of observing any value $\\geqslant |t|$ "
   ]
  },
  {
   "cell_type": "code",
   "execution_count": null,
   "id": "419b5e21-b1b0-46bf-b792-804c91f1112f",
   "metadata": {},
   "outputs": [],
   "source": []
  }
 ],
 "metadata": {
  "kernelspec": {
   "display_name": "Python 3",
   "language": "python",
   "name": "python3"
  },
  "language_info": {
   "codemirror_mode": {
    "name": "ipython",
    "version": 3
   },
   "file_extension": ".py",
   "mimetype": "text/x-python",
   "name": "python",
   "nbconvert_exporter": "python",
   "pygments_lexer": "ipython3",
   "version": "3.6.13"
  }
 },
 "nbformat": 4,
 "nbformat_minor": 5
}
